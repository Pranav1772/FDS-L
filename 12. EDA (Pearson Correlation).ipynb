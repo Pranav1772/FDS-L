{
 "cells": [
  {
   "cell_type": "code",
   "execution_count": 6,
   "id": "0066c133-4dcc-4152-a75c-1770a6d62d5f",
   "metadata": {
    "tags": []
   },
   "outputs": [
    {
     "name": "stdout",
     "output_type": "stream",
     "text": [
      "Pearson's coefficient:  1.0\n",
      "p-value: 0.0\n"
     ]
    }
   ],
   "source": [
    "import pandas as pd\n",
    "from scipy.stats import pearsonr\n",
    "\n",
    "# create sample data\n",
    "\n",
    "df = pd.DataFrame({'x': [1, 2, 3, 4, 5], 'y': [2, 4, 6, 8, 10]})\n",
    "\n",
    "#calculate Pearson's coefficient and p-value\n",
    "pearson_coeff, p_value = pearsonr(df ['x'], df ['y'])\n",
    "\n",
    "#print the results\n",
    "\n",
    "print (\"Pearson's coefficient: \", pearson_coeff) \n",
    "print (\"p-value:\", p_value)"
   ]
  },
  {
   "cell_type": "code",
   "execution_count": 16,
   "id": "f57a0c63-4b60-4c11-a01e-99a92e9c25b6",
   "metadata": {
    "tags": []
   },
   "outputs": [
    {
     "name": "stdout",
     "output_type": "stream",
     "text": [
      "The correlation between x and y is  positive\n"
     ]
    }
   ],
   "source": [
    "import pandas as pd\n",
    "\n",
    "#create sample data\n",
    "\n",
    "df=pd.DataFrame ({'x': [1, 2, 3, 4, 5], 'y': [2, 4, 6, 8, 10]})\n",
    "\n",
    "# calculate Pearson's coefficient\n",
    "\n",
    "pearson_coeff=df['x'].corr(df ['y'])\n",
    "\n",
    "# identify the type of correlation \n",
    "if pearson_coeff > 0: \n",
    "    correlation_type='positive' \n",
    "elif pearson_coeff == 0:\n",
    "    correlation_type='neutral' \n",
    "else: \n",
    "    correlation_type = 'negative'\n",
    "\n",
    "#print the type of correlation \n",
    "print('The correlation between x and y is ', correlation_type)"
   ]
  },
  {
   "cell_type": "code",
   "execution_count": null,
   "id": "b6e05803-9ff8-4e97-9da3-e5f2d2f37a8f",
   "metadata": {},
   "outputs": [],
   "source": []
  }
 ],
 "metadata": {
  "kernelspec": {
   "display_name": "Python 3 (ipykernel)",
   "language": "python",
   "name": "python3"
  },
  "language_info": {
   "codemirror_mode": {
    "name": "ipython",
    "version": 3
   },
   "file_extension": ".py",
   "mimetype": "text/x-python",
   "name": "python",
   "nbconvert_exporter": "python",
   "pygments_lexer": "ipython3",
   "version": "3.10.7"
  }
 },
 "nbformat": 4,
 "nbformat_minor": 5
}
