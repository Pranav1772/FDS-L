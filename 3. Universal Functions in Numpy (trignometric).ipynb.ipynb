{
 "cells": [
  {
   "cell_type": "code",
   "execution_count": 2,
   "id": "edb5a588-3a81-4442-a99a-ed2eb9985dc6",
   "metadata": {
    "tags": []
   },
   "outputs": [
    {
     "data": {
      "text/plain": [
       "array([0.        , 0.52359878, 0.78539816, 1.04719755, 1.57079633,\n",
       "       3.14159265])"
      ]
     },
     "execution_count": 2,
     "metadata": {},
     "output_type": "execute_result"
    }
   ],
   "source": [
    "import numpy as np\n",
    "angles = np.array([0, 30, 45, 60, 90, 180])\n",
    "\n",
    "# conversion of degree into radians\n",
    "# using deg2rad function\n",
    "radians = np.deg2rad(angles)\n",
    "radians"
   ]
  },
  {
   "cell_type": "code",
   "execution_count": 3,
   "id": "077c205c-fb63-497e-9a18-9c8e22a5f9e7",
   "metadata": {
    "tags": []
   },
   "outputs": [
    {
     "data": {
      "text/plain": [
       "array([    0.        ,  1718.87338539,  2578.31007809,  3437.74677078,\n",
       "        5156.62015618, 10313.24031235])"
      ]
     },
     "execution_count": 3,
     "metadata": {},
     "output_type": "execute_result"
    }
   ],
   "source": [
    "# conversion of degree into radians\n",
    "# using rad2deg function\n",
    "degree = np.rad2deg(angles)\n",
    "degree"
   ]
  },
  {
   "cell_type": "code",
   "execution_count": 4,
   "id": "d8abe482-149c-4d61-b949-ea201a548faf",
   "metadata": {
    "tags": []
   },
   "outputs": [
    {
     "name": "stdout",
     "output_type": "stream",
     "text": [
      "Sine of angles in the array:\n",
      "[0.00000000e+00 5.00000000e-01 7.07106781e-01 8.66025404e-01\n",
      " 1.00000000e+00 1.22464680e-16]\n"
     ]
    }
   ],
   "source": [
    "print('Sine of angles in the array:')\n",
    "sine_value = np.sin(radians)\n",
    "print(sine_value)"
   ]
  },
  {
   "cell_type": "code",
   "execution_count": 5,
   "id": "bd010095-7a00-429b-9ed5-974c15cba160",
   "metadata": {
    "tags": []
   },
   "outputs": [
    {
     "name": "stdout",
     "output_type": "stream",
     "text": [
      "Inverse Sine of sine values:\n",
      "[0.0000000e+00 3.0000000e+01 4.5000000e+01 6.0000000e+01 9.0000000e+01\n",
      " 7.0167093e-15]\n"
     ]
    }
   ],
   "source": [
    "print('Inverse Sine of sine values:')\n",
    "print(np.rad2deg(np.arcsin(sine_value)))"
   ]
  },
  {
   "cell_type": "code",
   "execution_count": 6,
   "id": "035f76a6-bb76-4a13-8e49-122dd0e75938",
   "metadata": {
    "tags": []
   },
   "outputs": [
    {
     "name": "stdout",
     "output_type": "stream",
     "text": [
      "Sine hyperbolic of angles in the array:\n",
      "[ 0.          0.54785347  0.86867096  1.24936705  2.3012989  11.54873936]\n"
     ]
    }
   ],
   "source": [
    "print('Sine hyperbolic of angles in the array:')\n",
    "sineh_value = np.sinh(radians)\n",
    "print(np.sinh(radians))"
   ]
  },
  {
   "cell_type": "code",
   "execution_count": 7,
   "id": "c4826bb1-b8d2-43fc-a918-c53c56b2acfb",
   "metadata": {
    "tags": []
   },
   "outputs": [
    {
     "name": "stdout",
     "output_type": "stream",
     "text": [
      "Inverse Sine hyperbolic:\n",
      "[ 0.          0.52085606  0.76347126  0.94878485  0.74483916 -0.85086591]\n"
     ]
    }
   ],
   "source": [
    "print('Inverse Sine hyperbolic:')\n",
    "print(np.sin(sineh_value)) "
   ]
  },
  {
   "cell_type": "code",
   "execution_count": 8,
   "id": "3a069779-4aba-49c0-85ed-645207a99b9f",
   "metadata": {
    "tags": []
   },
   "outputs": [
    {
     "name": "stdout",
     "output_type": "stream",
     "text": [
      "Sine of angles in the array:\n",
      "[ 1.00000000e+00  8.66025404e-01  7.07106781e-01  5.00000000e-01\n",
      "  6.12323400e-17 -1.00000000e+00]\n"
     ]
    }
   ],
   "source": [
    "print('Sine of angles in the array:')\n",
    "cos_value = np.cos(radians)\n",
    "print(cos_value)"
   ]
  },
  {
   "cell_type": "code",
   "execution_count": 9,
   "id": "b49895bc-492d-4ff3-964c-2e501cd02ffa",
   "metadata": {
    "tags": []
   },
   "outputs": [
    {
     "name": "stdout",
     "output_type": "stream",
     "text": [
      "Sine of angles in the array:\n",
      "[0.         0.55106958 0.90333911        nan        nan        nan]\n"
     ]
    },
    {
     "name": "stderr",
     "output_type": "stream",
     "text": [
      "C:\\Users\\prana\\AppData\\Local\\Temp\\ipykernel_5468\\1950592906.py:2: RuntimeWarning: invalid value encountered in arcsin\n",
      "  arcsin_value = np.arcsin(radians)\n"
     ]
    }
   ],
   "source": [
    "print('Sine of angles in the array:')\n",
    "arcsin_value = np.arcsin(radians)\n",
    "print(arcsin_value)"
   ]
  },
  {
   "cell_type": "code",
   "execution_count": 10,
   "id": "4fb6fe23-1a79-4a5b-b5a7-b29e9f235afc",
   "metadata": {
    "tags": []
   },
   "outputs": [
    {
     "name": "stdout",
     "output_type": "stream",
     "text": [
      "Hyperbolic inverse sine:\n",
      "[0.         0.50221899 0.72122549 0.91435666 1.23340312 1.86229574]\n"
     ]
    }
   ],
   "source": [
    "print('Hyperbolic inverse sine:')\n",
    "sine_value = np.arcsinh(radians)\n",
    "print(sine_value)"
   ]
  },
  {
   "cell_type": "code",
   "execution_count": 11,
   "id": "856e591f-a90c-4e69-a041-ce572c02e34f",
   "metadata": {
    "tags": []
   },
   "outputs": [
    {
     "name": "stdout",
     "output_type": "stream",
     "text": [
      "Hyperbolic inverse cos:\n",
      "[0.         0.50221899 0.72122549 0.91435666 1.23340312 1.86229574]\n"
     ]
    }
   ],
   "source": [
    "print('Hyperbolic inverse cos:')\n",
    "sine_value = np.arcsinh(radians)\n",
    "print(sine_value)"
   ]
  },
  {
   "cell_type": "code",
   "execution_count": 12,
   "id": "abe5ca9d-2d9c-4d56-acf7-85c69c7fa63a",
   "metadata": {
    "tags": []
   },
   "outputs": [
    {
     "name": "stdout",
     "output_type": "stream",
     "text": [
      "Hyperbolic inverse tan:\n",
      "[0.         0.50221899 0.72122549 0.91435666 1.23340312 1.86229574]\n"
     ]
    }
   ],
   "source": [
    "print('Hyperbolic inverse tan:')\n",
    "sine_value = np.arcsinh(radians)\n",
    "print(sine_value)"
   ]
  },
  {
   "cell_type": "code",
   "execution_count": 13,
   "id": "f704675f-1aa9-48ee-b05f-174d2475e317",
   "metadata": {
    "tags": []
   },
   "outputs": [
    {
     "name": "stdout",
     "output_type": "stream",
     "text": [
      "hypotenuse of right triangle is:\n",
      "5.0\n"
     ]
    }
   ],
   "source": [
    "# hypot function demonstration\n",
    "base = 4\n",
    "height = 3\n",
    "print('hypotenuse of right triangle is:')\n",
    "print(np.hypot(base, height))"
   ]
  }
 ],
 "metadata": {
  "kernelspec": {
   "display_name": "Python 3 (ipykernel)",
   "language": "python",
   "name": "python3"
  },
  "language_info": {
   "codemirror_mode": {
    "name": "ipython",
    "version": 3
   },
   "file_extension": ".py",
   "mimetype": "text/x-python",
   "name": "python",
   "nbconvert_exporter": "python",
   "pygments_lexer": "ipython3",
   "version": "3.10.7"
  }
 },
 "nbformat": 4,
 "nbformat_minor": 5
}
