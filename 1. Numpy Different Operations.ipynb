{
 "cells": [
  {
   "cell_type": "markdown",
   "metadata": {
    "id": "78k9xFVOgbgU"
   },
   "source": [
    "**Experiment No. 1 (Array operation using NumPy)**"
   ]
  },
  {
   "cell_type": "code",
   "execution_count": 1,
   "metadata": {
    "id": "lGfmO5OGnJ8u",
    "tags": []
   },
   "outputs": [],
   "source": [
    "import numpy as np\n",
    "a=np.array(42)           #0-D Array\n",
    "b=np.array([1,2,3])      #1-D Arrays\n",
    "c=np.array([[1,2,3],[4,5,6]])     #2-D Arrays"
   ]
  },
  {
   "cell_type": "code",
   "execution_count": 2,
   "metadata": {
    "id": "YZ1hNpwjnJ_s",
    "tags": []
   },
   "outputs": [],
   "source": [
    "d= np.array([[[1, 2, 3], [4, 5, 6]], [[1, 2, 3], [4, 5, 6]]]) #3-D Arrays\n",
    "e=np.array((1, 2, 3, 4, 5))     #1-D Array from tuple\n",
    "f= np.array([1, 2, 3, 4], ndmin=5)  #High Dimentional Array"
   ]
  },
  {
   "cell_type": "code",
   "execution_count": 3,
   "metadata": {
    "colab": {
     "base_uri": "https://localhost:8080/"
    },
    "id": "hgsTS3jjnKDV",
    "outputId": "d9432969-f7e5-447a-a9d7-06bda4039e4c",
    "tags": []
   },
   "outputs": [
    {
     "name": "stdout",
     "output_type": "stream",
     "text": [
      "42\n",
      "[1 2 3]\n",
      "[[1 2 3]\n",
      " [4 5 6]]\n",
      "[[[1 2 3]\n",
      "  [4 5 6]]\n",
      "\n",
      " [[1 2 3]\n",
      "  [4 5 6]]]\n",
      "[1 2 3 4 5]\n",
      "[[[[[1 2 3 4]]]]]\n",
      "Each item contains 4 bytes\n"
     ]
    }
   ],
   "source": [
    "#Print the array.\n",
    "print(a)\n",
    "print(b)\n",
    "print(c)\n",
    "print(d)\n",
    "print(e)\n",
    "print(f)\n",
    "print(\"Each item contains\",a.itemsize,\"bytes\")"
   ]
  },
  {
   "cell_type": "code",
   "execution_count": 4,
   "metadata": {
    "colab": {
     "base_uri": "https://localhost:8080/"
    },
    "id": "Kpkn5oUGnMZF",
    "outputId": "2ebd7636-24c6-4821-be8f-d20ddbee2b2e",
    "tags": []
   },
   "outputs": [
    {
     "name": "stdout",
     "output_type": "stream",
     "text": [
      "<class 'numpy.ndarray'>\n",
      "<class 'numpy.ndarray'>\n",
      "<class 'numpy.ndarray'>\n",
      "<class 'numpy.ndarray'>\n"
     ]
    }
   ],
   "source": [
    "#The type of array.\n",
    "print(type(a))\n",
    "print(type(b))\n",
    "print(type(c))\n",
    "print(type(d))"
   ]
  },
  {
   "cell_type": "code",
   "execution_count": 5,
   "metadata": {
    "colab": {
     "base_uri": "https://localhost:8080/"
    },
    "id": "qxy0Pi5RnMb9",
    "outputId": "5838a1b4-349f-4852-98ac-69fcd5205c66",
    "tags": []
   },
   "outputs": [
    {
     "name": "stdout",
     "output_type": "stream",
     "text": [
      "0\n",
      "1\n",
      "2\n",
      "3\n",
      "1\n",
      "5\n"
     ]
    }
   ],
   "source": [
    "#Numbers of Dimensions.\n",
    "print(a.ndim)\n",
    "print(b.ndim)\n",
    "print(c.ndim)\n",
    "print(d.ndim)\n",
    "print(e.ndim)\n",
    "print(f.ndim)"
   ]
  },
  {
   "cell_type": "code",
   "execution_count": 6,
   "metadata": {
    "colab": {
     "base_uri": "https://localhost:8080/"
    },
    "id": "2XJ9fuWtnMft",
    "outputId": "8be768e8-8e28-4d1f-d3d4-ff3d03e638cd",
    "tags": []
   },
   "outputs": [
    {
     "name": "stdout",
     "output_type": "stream",
     "text": [
      "The value is= 6\n",
      "The value is= 1\n",
      "The value is= 2\n",
      "The value is= 5\n"
     ]
    }
   ],
   "source": [
    "#Array Indexing.\n",
    "print(\"The value is=\",c[1][2])\n",
    "print(\"The value is=\",b[0])\n",
    "print(\"The value is=\",b[-2])    #Negative Indexing\n",
    "print(\"The value is=\",c[-1][-2])"
   ]
  },
  {
   "cell_type": "code",
   "execution_count": 7,
   "metadata": {
    "colab": {
     "base_uri": "https://localhost:8080/"
    },
    "id": "BWqz5NH0nMid",
    "outputId": "fb756ba3-4fe8-4f88-dcbb-b4bd81ab1f8f",
    "tags": []
   },
   "outputs": [
    {
     "name": "stdout",
     "output_type": "stream",
     "text": [
      "43\n",
      "[2 3 4]\n",
      "43\n",
      "[45 46 47]\n",
      "[5]\n",
      "[2]\n",
      "[[1 2]\n",
      " [4 5]]\n",
      "[[[1 2 3]]\n",
      "\n",
      " [[1 2 3]]]\n"
     ]
    }
   ],
   "source": [
    "#Array Slicing\n",
    "a=a+1;\n",
    "print(a)\n",
    "b=b+1\n",
    "print(b)\n",
    "print(a.sum())\n",
    "print(a+b)\n",
    "print(c[1,1:2])\n",
    "print(c[0:1,1])\n",
    "print(c[:,:-1])\n",
    "print(d[:,:1])"
   ]
  },
  {
   "cell_type": "code",
   "execution_count": 8,
   "metadata": {
    "colab": {
     "base_uri": "https://localhost:8080/"
    },
    "id": "UVhY3QK6ne2d",
    "outputId": "ee140ec8-1109-4c0a-87d8-41dcd51eb56a",
    "tags": []
   },
   "outputs": [
    {
     "name": "stdout",
     "output_type": "stream",
     "text": [
      "[1 2 3 4]\n",
      "[3 4 5 6 7]\n",
      "[2 4 6]\n",
      "[7 5]\n",
      "[2 3 4]\n",
      "[7 8 9]\n",
      "[[2 3 4]\n",
      " [7 8 9]]\n",
      "[[ 4  5]\n",
      " [ 9 10]]\n"
     ]
    }
   ],
   "source": [
    "#Array slicing\n",
    "arr = np.array([1, 2, 3, 4, 5, 6, 7])   #1 D Array\n",
    "print(arr[:4])\n",
    "print(arr[2:])\n",
    "print(arr[1:6:2])\n",
    "print(arr[-1:-5:-2])  \n",
    "arr1 = np.array([[1, 2, 3, 4, 5],             #2 D Array\n",
    "                 [6, 7, 8, 9, 10]])\n",
    "print(arr1[0,1:4])\n",
    "print(arr1[1,1:4])\n",
    "\n",
    "print(arr1[0:2,1:4])\n",
    "\n",
    "print(arr1[0:2,3:6])"
   ]
  },
  {
   "cell_type": "code",
   "execution_count": 9,
   "metadata": {
    "colab": {
     "base_uri": "https://localhost:8080/"
    },
    "id": "0u0-gkzUn-A9",
    "outputId": "73be7b2d-4aa6-40d4-9ab0-896c066761c1",
    "tags": []
   },
   "outputs": [
    {
     "name": "stdout",
     "output_type": "stream",
     "text": [
      "int32\n",
      "<U6\n"
     ]
    }
   ],
   "source": [
    "arr = np.array([1, 2, 3, 4])\n",
    "arr1 = np.array(['apple', 'banana', 'cherry'])\n",
    "print(arr.dtype)         #Checking the data type of an array.\n",
    "print(arr1.dtype)\n"
   ]
  },
  {
   "cell_type": "code",
   "execution_count": 10,
   "metadata": {
    "colab": {
     "base_uri": "https://localhost:8080/"
    },
    "id": "uNMZhY9hn-Gz",
    "outputId": "60713b55-50f5-4d56-dc90-4bf27639c52d",
    "tags": []
   },
   "outputs": [
    {
     "name": "stdout",
     "output_type": "stream",
     "text": [
      "float64\n",
      "[1.1 2.1 3.1]\n",
      "[1 2 3]\n",
      "int32\n"
     ]
    }
   ],
   "source": [
    "#Converting Data Type on Existing Arrays using astype method\n",
    "arr4 = np.array([1.1, 2.1, 3.1])\n",
    "print(arr4.dtype)\n",
    "newarr = arr4.astype('i')\n",
    "print(arr4)\n",
    "print(newarr)\n",
    "print(newarr.dtype)"
   ]
  },
  {
   "cell_type": "code",
   "execution_count": 11,
   "metadata": {
    "colab": {
     "base_uri": "https://localhost:8080/"
    },
    "id": "CAabTgsCoipd",
    "outputId": "1b3bfb27-5b1c-465c-fd22-a24ab33beb9d",
    "tags": []
   },
   "outputs": [
    {
     "name": "stdout",
     "output_type": "stream",
     "text": [
      "[ 5.          6.11111111  7.22222222  8.33333333  9.44444444 10.55555556\n",
      " 11.66666667 12.77777778 13.88888889 15.        ]\n"
     ]
    }
   ],
   "source": [
    "#Linspace\n",
    "a=np.linspace(5,15,10) #prints 10 values which are evenly spaced over the given interval 5-15  \n",
    "print(a)  "
   ]
  },
  {
   "cell_type": "code",
   "execution_count": 12,
   "metadata": {
    "colab": {
     "base_uri": "https://localhost:8080/"
    },
    "id": "__T42vSjsuGL",
    "outputId": "8c597337-2435-43f9-b7d9-708e882411f7",
    "tags": []
   },
   "outputs": [
    {
     "name": "stdout",
     "output_type": "stream",
     "text": [
      "The array: [[ 1  2 30]\n",
      " [10 15  4]]\n",
      "The maximum elements of columns: [10 15 30]\n",
      "The minimum element of rows [1 4]\n",
      "The sum of all rows [33 29]\n"
     ]
    }
   ],
   "source": [
    "#NumPy Array Axis\n",
    "a = np.array([[1,2,30],[10,15,4]])  \n",
    "print(\"The array:\",a)  \n",
    "print(\"The maximum elements of columns:\",a.max(axis = 0))   \n",
    "print(\"The minimum element of rows\",a.min(axis = 1))  \n",
    "print(\"The sum of all rows\",a.sum(axis = 1))  "
   ]
  },
  {
   "cell_type": "code",
   "execution_count": 13,
   "metadata": {
    "colab": {
     "base_uri": "https://localhost:8080/"
    },
    "id": "lOEDJfhRs6tw",
    "outputId": "37d43b7a-ac2f-426a-b8cf-f6ed0b9b2271",
    "tags": []
   },
   "outputs": [
    {
     "name": "stdout",
     "output_type": "stream",
     "text": [
      "The array: [[ 1  2 30]\n",
      " [10 15  4]]\n",
      "The maximum elements of columns: [10 15 30]\n",
      "The minimum element of rows [1 4]\n",
      "The sum of all rows [33 29]\n"
     ]
    }
   ],
   "source": [
    "#NumPy Array Axis\n",
    "a = np.array([[1,2,30],[10,15,4]])  \n",
    "print(\"The array:\",a)  \n",
    "print(\"The maximum elements of columns:\",a.max(axis = 0))   \n",
    "print(\"The minimum element of rows\",a.min(axis = 1))  \n",
    "print(\"The sum of all rows\",a.sum(axis = 1))  "
   ]
  },
  {
   "cell_type": "code",
   "execution_count": 14,
   "metadata": {
    "colab": {
     "base_uri": "https://localhost:8080/"
    },
    "id": "DJGRbksesuIx",
    "outputId": "97e78959-631e-463e-ea29-8b2382764021",
    "tags": []
   },
   "outputs": [
    {
     "name": "stdout",
     "output_type": "stream",
     "text": [
      "Sum of array a and b\n",
      " [[ 2  4 33]\n",
      " [22 34 33]]\n",
      "Product of array a and b\n",
      " [[  1   4  90]\n",
      " [120 285 116]]\n",
      "Division of array a and b\n",
      " [[ 1.          1.         10.        ]\n",
      " [ 0.83333333  0.78947368  0.13793103]]\n"
     ]
    }
   ],
   "source": [
    "#Arithmetic operations on the array\n",
    "a = np.array([[1,2,30],[10,15,4]])  \n",
    "b = np.array([[1,2,3],[12, 19, 29]])  \n",
    "print(\"Sum of array a and b\\n\",a+b)  \n",
    "print(\"Product of array a and b\\n\",a*b)  \n",
    "print(\"Division of array a and b\\n\",a/b)   "
   ]
  },
  {
   "cell_type": "code",
   "execution_count": 15,
   "metadata": {
    "colab": {
     "base_uri": "https://localhost:8080/"
    },
    "id": "JJSKBkczt0Vp",
    "outputId": "d23010cc-dbf4-406f-bd44-63580ef61311",
    "tags": []
   },
   "outputs": [
    {
     "name": "stdout",
     "output_type": "stream",
     "text": [
      "Arrays vertically concatenated\n",
      " [[ 1  2 30]\n",
      " [10 15  4]\n",
      " [ 1  2  3]\n",
      " [12 19 29]]\n",
      "Arrays horizontally concatenated\n",
      " [[ 1  2 30  1  2  3]\n",
      " [10 15  4 12 19 29]]\n"
     ]
    }
   ],
   "source": [
    "#Array Concatenation\n",
    "a = np.array([[1,2,30],[10,15,4]])  \n",
    "b = np.array([[1,2,3],[12, 19, 29]])  \n",
    "print(\"Arrays vertically concatenated\\n\",np.vstack((a,b)));  \n",
    "print(\"Arrays horizontally concatenated\\n\",np.hstack((a,b)))  "
   ]
  },
  {
   "cell_type": "code",
   "execution_count": 16,
   "metadata": {
    "colab": {
     "base_uri": "https://localhost:8080/"
    },
    "id": "Trx0NAtst0Xv",
    "outputId": "9ac242f5-2d66-4460-a6ed-4c49324226f3",
    "tags": []
   },
   "outputs": [
    {
     "name": "stdout",
     "output_type": "stream",
     "text": [
      "[0. 2. 4. 6. 8.]\n"
     ]
    }
   ],
   "source": [
    "#arange()\n",
    "arr = np.arange(0,10,2,float)  \n",
    "print(arr)"
   ]
  },
  {
   "cell_type": "code",
   "execution_count": 17,
   "metadata": {
    "colab": {
     "base_uri": "https://localhost:8080/"
    },
    "id": "UTpSAiUst0bg",
    "outputId": "def19cd0-ab2e-4e6b-b256-67919959d824",
    "tags": []
   },
   "outputs": [
    {
     "name": "stdout",
     "output_type": "stream",
     "text": [
      "[[0. 0. 0.]\n",
      " [0. 0. 0.]]\n"
     ]
    }
   ],
   "source": [
    "#zeroes() \n",
    "array = np.zeros([2,3])  \n",
    "print(array)"
   ]
  },
  {
   "cell_type": "code",
   "execution_count": 18,
   "metadata": {
    "colab": {
     "base_uri": "https://localhost:8080/"
    },
    "id": "pqBOOl7rsuMZ",
    "outputId": "ca844aa4-dcdc-436a-89b8-590f378fb813",
    "tags": []
   },
   "outputs": [
    {
     "name": "stdout",
     "output_type": "stream",
     "text": [
      "[[1. 1. 1.]\n",
      " [1. 1. 1.]]\n"
     ]
    }
   ],
   "source": [
    "#ones() \n",
    "array = np.ones([2,3])  \n",
    "print(array)  "
   ]
  },
  {
   "cell_type": "code",
   "execution_count": 19,
   "metadata": {
    "colab": {
     "base_uri": "https://localhost:8080/"
    },
    "id": "83HHbB_PIKvq",
    "outputId": "182b7801-bf1c-45c1-f729-690b1cbd45fe",
    "tags": []
   },
   "outputs": [
    {
     "name": "stdout",
     "output_type": "stream",
     "text": [
      "[[1. 0. 0. 0.]\n",
      " [0. 1. 0. 0.]\n",
      " [0. 0. 1. 0.]\n",
      " [0. 0. 0. 1.]]\n"
     ]
    }
   ],
   "source": [
    "#identity() \n",
    "import numpy as np    \n",
    "import numpy.matlib    \n",
    "print(numpy.matlib.identity(4)) "
   ]
  },
  {
   "cell_type": "code",
   "execution_count": 20,
   "metadata": {
    "colab": {
     "base_uri": "https://localhost:8080/"
    },
    "id": "5RwTROWbIPZm",
    "outputId": "8bb6a142-597c-4265-ad6c-a85fe3b0eed6",
    "tags": []
   },
   "outputs": [
    {
     "name": "stdout",
     "output_type": "stream",
     "text": [
      "[[1. 0. 0. 0.]\n",
      " [0. 1. 0. 0.]\n",
      " [0. 0. 1. 0.]\n",
      " [0. 0. 0. 1.]]\n",
      "[[1. 1. 1.]\n",
      " [1. 1. 1.]]\n"
     ]
    }
   ],
   "source": [
    "#eye()\n",
    "array = np.eye(4)  \n",
    "print(array)\n",
    "array = np.ones([2,3])  \n",
    "print(array)  "
   ]
  },
  {
   "cell_type": "code",
   "execution_count": 21,
   "metadata": {
    "colab": {
     "base_uri": "https://localhost:8080/"
    },
    "id": "EFLnci7ZIPb9",
    "outputId": "6c88d96f-613f-444f-eb3e-7f72f17f2248",
    "tags": []
   },
   "outputs": [
    {
     "name": "stdout",
     "output_type": "stream",
     "text": [
      "[[1. 1.]\n",
      " [1. 1.]\n",
      " [1. 1.]]\n"
     ]
    }
   ],
   "source": [
    "#empty()\n",
    "x = np.empty([3, 2])  \n",
    "print(x)   "
   ]
  },
  {
   "cell_type": "code",
   "execution_count": 22,
   "metadata": {
    "colab": {
     "base_uri": "https://localhost:8080/"
    },
    "id": "Mv3FXW5TIPfU",
    "outputId": "38f6534e-6e25-4713-d275-4d5ca259c3aa",
    "tags": []
   },
   "outputs": [
    {
     "name": "stdout",
     "output_type": "stream",
     "text": [
      "[[[[[['a' 'b' 'c' 'd' 'e' 'f']]]]]]\n",
      "number of dimensions : 6\n"
     ]
    }
   ],
   "source": [
    "#ndim, ndmin.\n",
    "a=np.array([['a','b','c','d','e','f']], ndmin=6)\n",
    "print(a)\n",
    "print('number of dimensions :', a.ndim)"
   ]
  },
  {
   "cell_type": "code",
   "execution_count": 23,
   "metadata": {
    "colab": {
     "base_uri": "https://localhost:8080/"
    },
    "id": "UB-XEOC1JzPW",
    "outputId": "55f53b71-9e02-45a8-d9b4-6e8b59d284e7",
    "tags": []
   },
   "outputs": [
    {
     "name": "stdout",
     "output_type": "stream",
     "text": [
      "number of concatenate : [[1 2]\n",
      " [3 4]\n",
      " [5 6]]\n",
      "number of append : [1 2 3 4 5 6]\n"
     ]
    }
   ],
   "source": [
    "#\n",
    "a = np.array([[1, 2], [3, 4]])\n",
    "b = np.array([[5, 6]])\n",
    "c=np.append(a,b)\n",
    "d=np.concatenate((a, b), axis=0)\n",
    "print('number of concatenate :', d)\n",
    "print('number of append :', c)"
   ]
  },
  {
   "cell_type": "code",
   "execution_count": 24,
   "metadata": {
    "colab": {
     "base_uri": "https://localhost:8080/"
    },
    "id": "QhMzeHk5JzSE",
    "outputId": "b3e23693-bbf2-4d53-845b-93ec58186798",
    "tags": []
   },
   "outputs": [
    {
     "name": "stdout",
     "output_type": "stream",
     "text": [
      "[1 2 3 4]\n",
      "int32\n",
      "1\n"
     ]
    }
   ],
   "source": [
    "#dtype in an array\n",
    "arr3 = np.array([1, 2, 3, 4], dtype='i')\n",
    "\n",
    "print(arr3)\n",
    "print(arr3.dtype)\n",
    "\n",
    "print(arr3[0])"
   ]
  },
  {
   "cell_type": "code",
   "execution_count": 25,
   "metadata": {
    "colab": {
     "base_uri": "https://localhost:8080/"
    },
    "id": "Th8XlGTyJzUO",
    "outputId": "d31a23e3-a209-49e5-cbec-05c022b34d1e",
    "tags": []
   },
   "outputs": [
    {
     "name": "stdout",
     "output_type": "stream",
     "text": [
      "printing the original array..\n",
      "[[1 2]\n",
      " [3 4]\n",
      " [5 6]]\n",
      "printing the reshaped array..\n",
      "[[1 2 3]\n",
      " [4 5 6]]\n"
     ]
    }
   ],
   "source": [
    "#shape\n",
    "x = np.array([[1,2],[3,4],[5,6]])  \n",
    "print(\"printing the original array..\")  \n",
    "print(x)  \n",
    "x=x.reshape(2,3)  \n",
    "print(\"printing the reshaped array..\")  \n",
    "print(x)"
   ]
  },
  {
   "cell_type": "code",
   "execution_count": 26,
   "metadata": {
    "colab": {
     "base_uri": "https://localhost:8080/"
    },
    "id": "qPbzQr1HKlZ4",
    "outputId": "632c1ff3-7320-4158-93ae-914d8d761766",
    "tags": []
   },
   "outputs": [
    {
     "name": "stdout",
     "output_type": "stream",
     "text": [
      "6\n"
     ]
    }
   ],
   "source": [
    "#size\n",
    "x = np.array([[1,2],[3,4],[5,6]])\n",
    "print(np.size(x))"
   ]
  },
  {
   "cell_type": "code",
   "execution_count": 27,
   "metadata": {
    "colab": {
     "base_uri": "https://localhost:8080/"
    },
    "id": "wEIOfcX_KldK",
    "outputId": "2a358277-96f1-4fb9-9812-55bc7ef65840",
    "tags": []
   },
   "outputs": [
    {
     "name": "stdout",
     "output_type": "stream",
     "text": [
      "[[ 1  2  3]\n",
      " [ 4  5  6]\n",
      " [ 7  8  9]\n",
      " [10 11 12]]\n"
     ]
    }
   ],
   "source": [
    "#reshape\n",
    "#reshape 1-D to 2-D\n",
    "arr = np.array([1, 2, 3, 4, 5, 6, 7, 8, 9, 10, 11, 12])\n",
    "print(arr.reshape(4, 3))"
   ]
  },
  {
   "cell_type": "code",
   "execution_count": 28,
   "metadata": {
    "colab": {
     "base_uri": "https://localhost:8080/"
    },
    "id": "1WqQNKVzKlfr",
    "outputId": "3b0accfc-d2c0-438c-f8f9-25b5b6deb4fc",
    "tags": []
   },
   "outputs": [
    {
     "name": "stdout",
     "output_type": "stream",
     "text": [
      "[[[ 1  2]\n",
      "  [ 3  4]\n",
      "  [ 5  6]]\n",
      "\n",
      " [[ 7  8]\n",
      "  [ 9 10]\n",
      "  [11 12]]]\n"
     ]
    }
   ],
   "source": [
    "#reshape\n",
    "#reshape 1-D to 3-D\n",
    "arr = np.array([1, 2, 3, 4, 5, 6, 7, 8, 9, 10, 11, 12])\n",
    "print(arr.reshape(2, 3, 2))"
   ]
  },
  {
   "cell_type": "code",
   "execution_count": 29,
   "metadata": {
    "colab": {
     "base_uri": "https://localhost:8080/"
    },
    "id": "-zm4nD1WKliY",
    "outputId": "7aa54546-91f0-4d45-f16c-b587ac24ca07",
    "tags": []
   },
   "outputs": [
    {
     "name": "stdout",
     "output_type": "stream",
     "text": [
      "[0 1 2 3]\n"
     ]
    }
   ],
   "source": [
    "#Sort\n",
    "arr = np.array([3, 2, 0, 1])\n",
    "print(np.sort(arr))"
   ]
  },
  {
   "cell_type": "code",
   "execution_count": 30,
   "metadata": {
    "colab": {
     "base_uri": "https://localhost:8080/"
    },
    "id": "tIdoMZ9jLnoC",
    "outputId": "3e8da359-a352-4f48-c5b4-81833172f258",
    "tags": []
   },
   "outputs": [
    {
     "name": "stdout",
     "output_type": "stream",
     "text": [
      "[ 2 61  3 84 92]\n"
     ]
    }
   ],
   "source": [
    "#Random\n",
    "from numpy import random\n",
    "x=random.randint(100, size=(5))\n",
    "print(x)"
   ]
  }
 ],
 "metadata": {
  "colab": {
   "provenance": []
  },
  "kernelspec": {
   "display_name": "Python 3 (ipykernel)",
   "language": "python",
   "name": "python3"
  },
  "language_info": {
   "codemirror_mode": {
    "name": "ipython",
    "version": 3
   },
   "file_extension": ".py",
   "mimetype": "text/x-python",
   "name": "python",
   "nbconvert_exporter": "python",
   "pygments_lexer": "ipython3",
   "version": "3.10.7"
  }
 },
 "nbformat": 4,
 "nbformat_minor": 4
}
