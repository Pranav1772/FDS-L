{
 "cells": [
  {
   "cell_type": "code",
   "execution_count": 7,
   "id": "3cab40d1-37ba-4f86-b245-b03b036fa53e",
   "metadata": {
    "tags": []
   },
   "outputs": [
    {
     "data": {
      "text/plain": [
       "0    p\n",
       "1    q\n",
       "0    r\n",
       "1    s\n",
       "dtype: object"
      ]
     },
     "execution_count": 7,
     "metadata": {},
     "output_type": "execute_result"
    }
   ],
   "source": [
    "#Concatenate\n",
    "import numpy as np\n",
    "import pandas as pd  \n",
    "a_data = pd.Series(['p', 'q'])  \n",
    "b_data = pd.Series(['r', 's'])  \n",
    "pd.concat([a_data, b_data]) "
   ]
  },
  {
   "cell_type": "code",
   "execution_count": 2,
   "id": "9d4ff9af-60af-4612-b0f4-5d8201dc42e5",
   "metadata": {
    "tags": []
   },
   "outputs": [
    {
     "name": "stdout",
     "output_type": "stream",
     "text": [
      "     Name subject_id  Marks_scored\n",
      "1  Parker       sub1            98\n",
      "2   Smith       sub2            90\n",
      "3   Allen       sub4            87\n",
      "4    John       sub6            69\n",
      "5  Parker       sub5            78\n",
      "1   Billy       sub2            89\n",
      "2   Brian       sub4            80\n",
      "3    Bran       sub3            79\n",
      "4   Bryce       sub6            97\n",
      "5   Betty       sub5            88\n"
     ]
    },
    {
     "name": "stderr",
     "output_type": "stream",
     "text": [
      "C:\\Users\\prana\\AppData\\Local\\Temp\\ipykernel_16352\\2983591891.py:12: FutureWarning: The frame.append method is deprecated and will be removed from pandas in a future version. Use pandas.concat instead.\n",
      "  print (one.append(two))\n"
     ]
    }
   ],
   "source": [
    "#Append\n",
    "one = pd.DataFrame({  \n",
    "   'Name': ['Parker', 'Smith', 'Allen', 'John', 'Parker'],  \n",
    "   'subject_id':['sub1','sub2','sub4','sub6','sub5'],  \n",
    "   'Marks_scored':[98,90,87,69,78]},  \n",
    "   index=[1,2,3,4,5])  \n",
    "two = pd.DataFrame({  \n",
    "   'Name': ['Billy', 'Brian', 'Bran', 'Bryce', 'Betty'],  \n",
    "   'subject_id':['sub2','sub4','sub3','sub6','sub5'],  \n",
    "   'Marks_scored':[89,80,79,97,88]},  \n",
    "   index=[1,2,3,4,5])  \n",
    "print (one.append(two))"
   ]
  },
  {
   "cell_type": "code",
   "execution_count": 3,
   "id": "4c25146e-ecdd-439e-a59d-bd86e3e7c75e",
   "metadata": {
    "tags": []
   },
   "outputs": [
    {
     "name": "stdout",
     "output_type": "stream",
     "text": [
      "   id    Name subject_id\n",
      "0   1    John       sub1\n",
      "1   2  Parker       sub2\n",
      "2   3   Smith       sub4\n",
      "3   4  Parker       sub6\n",
      "   id     Name subject_id\n",
      "0   1  William       sub2\n",
      "1   2   Albert       sub4\n",
      "2   3     Tony       sub3\n",
      "3   4    Allen       sub6\n"
     ]
    }
   ],
   "source": [
    "#Merge\n",
    "left = pd.DataFrame({  \n",
    "   'id':[1,2,3,4],  \n",
    "   'Name': ['John', 'Parker', 'Smith', 'Parker'],  \n",
    "   'subject_id':['sub1','sub2','sub4','sub6']})  \n",
    "right = pd.DataFrame({  \n",
    "    'id':[1,2,3,4],  \n",
    "   'Name': ['William', 'Albert', 'Tony', 'Allen'],  \n",
    "   'subject_id':['sub2','sub4','sub3','sub6']})  \n",
    "print (left)  \n",
    "print (right)  "
   ]
  },
  {
   "cell_type": "code",
   "execution_count": 4,
   "id": "a0ea1547-2135-425c-9085-b20061eb05d1",
   "metadata": {
    "tags": []
   },
   "outputs": [
    {
     "data": {
      "text/html": [
       "<div>\n",
       "<style scoped>\n",
       "    .dataframe tbody tr th:only-of-type {\n",
       "        vertical-align: middle;\n",
       "    }\n",
       "\n",
       "    .dataframe tbody tr th {\n",
       "        vertical-align: top;\n",
       "    }\n",
       "\n",
       "    .dataframe thead th {\n",
       "        text-align: right;\n",
       "    }\n",
       "</style>\n",
       "<table border=\"1\" class=\"dataframe\">\n",
       "  <thead>\n",
       "    <tr style=\"text-align: right;\">\n",
       "      <th></th>\n",
       "      <th>key</th>\n",
       "      <th>A</th>\n",
       "      <th>B</th>\n",
       "    </tr>\n",
       "  </thead>\n",
       "  <tbody>\n",
       "    <tr>\n",
       "      <th>0</th>\n",
       "      <td>K0</td>\n",
       "      <td>A0</td>\n",
       "      <td>B0</td>\n",
       "    </tr>\n",
       "    <tr>\n",
       "      <th>1</th>\n",
       "      <td>K1</td>\n",
       "      <td>A1</td>\n",
       "      <td>B1</td>\n",
       "    </tr>\n",
       "    <tr>\n",
       "      <th>2</th>\n",
       "      <td>K2</td>\n",
       "      <td>A2</td>\n",
       "      <td>B2</td>\n",
       "    </tr>\n",
       "    <tr>\n",
       "      <th>3</th>\n",
       "      <td>K3</td>\n",
       "      <td>A3</td>\n",
       "      <td>NaN</td>\n",
       "    </tr>\n",
       "    <tr>\n",
       "      <th>4</th>\n",
       "      <td>K4</td>\n",
       "      <td>A4</td>\n",
       "      <td>NaN</td>\n",
       "    </tr>\n",
       "    <tr>\n",
       "      <th>5</th>\n",
       "      <td>K5</td>\n",
       "      <td>A5</td>\n",
       "      <td>NaN</td>\n",
       "    </tr>\n",
       "  </tbody>\n",
       "</table>\n",
       "</div>"
      ],
      "text/plain": [
       "  key   A    B\n",
       "0  K0  A0   B0\n",
       "1  K1  A1   B1\n",
       "2  K2  A2   B2\n",
       "3  K3  A3  NaN\n",
       "4  K4  A4  NaN\n",
       "5  K5  A5  NaN"
      ]
     },
     "execution_count": 4,
     "metadata": {},
     "output_type": "execute_result"
    }
   ],
   "source": [
    "#Join\n",
    "info = pd.DataFrame({'key': ['K0', 'K1', 'K2', 'K3', 'K4', 'K5'],  \n",
    "'A': ['A0', 'A1', 'A2', 'A3', 'A4', 'A5']})  \n",
    "x = pd.DataFrame({'key': ['K0', 'K1', 'K2'],  \n",
    "'B': ['B0', 'B1', 'B2']})  \n",
    "info.join(x, lsuffix='_caller', rsuffix='_x')   \n",
    "info.set_index('key').join(x.set_index('key'))  \n",
    "info.join(x.set_index('key'), on='key')"
   ]
  },
  {
   "cell_type": "code",
   "execution_count": 8,
   "id": "04f89e00-389b-4602-acbd-423ca20e3060",
   "metadata": {
    "tags": []
   },
   "outputs": [
    {
     "data": {
      "text/html": [
       "<div>\n",
       "<style scoped>\n",
       "    .dataframe tbody tr th:only-of-type {\n",
       "        vertical-align: middle;\n",
       "    }\n",
       "\n",
       "    .dataframe tbody tr th {\n",
       "        vertical-align: top;\n",
       "    }\n",
       "\n",
       "    .dataframe thead th {\n",
       "        text-align: right;\n",
       "    }\n",
       "</style>\n",
       "<table border=\"1\" class=\"dataframe\">\n",
       "  <thead>\n",
       "    <tr style=\"text-align: right;\">\n",
       "      <th></th>\n",
       "      <th>X</th>\n",
       "      <th>Y</th>\n",
       "      <th>Z</th>\n",
       "    </tr>\n",
       "  </thead>\n",
       "  <tbody>\n",
       "    <tr>\n",
       "      <th>sum</th>\n",
       "      <td>29.0</td>\n",
       "      <td>38.0</td>\n",
       "      <td>46.0</td>\n",
       "    </tr>\n",
       "    <tr>\n",
       "      <th>min</th>\n",
       "      <td>1.0</td>\n",
       "      <td>5.0</td>\n",
       "      <td>7.0</td>\n",
       "    </tr>\n",
       "  </tbody>\n",
       "</table>\n",
       "</div>"
      ],
      "text/plain": [
       "        X     Y     Z\n",
       "sum  29.0  38.0  46.0\n",
       "min   1.0   5.0   7.0"
      ]
     },
     "execution_count": 8,
     "metadata": {},
     "output_type": "execute_result"
    }
   ],
   "source": [
    "#Aggregation\n",
    "info=pd.DataFrame([[1,5,7],[10,12,15],[18,21,24],[np.nan,np.nan,np.nan]],columns=['X','Y','Z'])  \n",
    "info.agg(['sum','min'])  "
   ]
  },
  {
   "cell_type": "code",
   "execution_count": 9,
   "id": "f1e25a7d-e086-4cac-9ea3-4851f1ed8bfe",
   "metadata": {
    "tags": []
   },
   "outputs": [
    {
     "name": "stdout",
     "output_type": "stream",
     "text": [
      "Course\n",
      "B.Ed       98.0\n",
      "B.Sc       82.0\n",
      "BA         87.0\n",
      "M.Phill    91.0\n",
      "Name: Percentage, dtype: float64\n"
     ]
    }
   ],
   "source": [
    "#Grouping\n",
    "data = {'Name': ['Parker', 'Smith', 'John', 'William'],  \n",
    "   'Percentage': [82, 98, 91, 87],  \n",
    "   'Course': ['B.Sc','B.Ed','M.Phill','BA']}  \n",
    "df = pd.DataFrame(data)  \n",
    "grouped = df.groupby('Course')  \n",
    "print(grouped['Percentage'].agg(np.mean))"
   ]
  },
  {
   "cell_type": "code",
   "execution_count": 10,
   "id": "6dad37c2-ce7e-4bfb-b43c-f323f8011319",
   "metadata": {
    "tags": []
   },
   "outputs": [
    {
     "data": {
      "text/html": [
       "<div>\n",
       "<style scoped>\n",
       "    .dataframe tbody tr th:only-of-type {\n",
       "        vertical-align: middle;\n",
       "    }\n",
       "\n",
       "    .dataframe tbody tr th {\n",
       "        vertical-align: top;\n",
       "    }\n",
       "\n",
       "    .dataframe thead th {\n",
       "        text-align: right;\n",
       "    }\n",
       "</style>\n",
       "<table border=\"1\" class=\"dataframe\">\n",
       "  <thead>\n",
       "    <tr style=\"text-align: right;\">\n",
       "      <th></th>\n",
       "      <th></th>\n",
       "      <th>R</th>\n",
       "    </tr>\n",
       "    <tr>\n",
       "      <th>P</th>\n",
       "      <th>Q</th>\n",
       "      <th></th>\n",
       "    </tr>\n",
       "  </thead>\n",
       "  <tbody>\n",
       "    <tr>\n",
       "      <th>John</th>\n",
       "      <th>C</th>\n",
       "      <td>24</td>\n",
       "    </tr>\n",
       "    <tr>\n",
       "      <th>Parker</th>\n",
       "      <th>Java</th>\n",
       "      <td>25</td>\n",
       "    </tr>\n",
       "    <tr>\n",
       "      <th>Smith</th>\n",
       "      <th>Python</th>\n",
       "      <td>19</td>\n",
       "    </tr>\n",
       "    <tr>\n",
       "      <th>William</th>\n",
       "      <th>C++</th>\n",
       "      <td>22</td>\n",
       "    </tr>\n",
       "  </tbody>\n",
       "</table>\n",
       "</div>"
      ],
      "text/plain": [
       "                 R\n",
       "P       Q         \n",
       "John    C       24\n",
       "Parker  Java    25\n",
       "Smith   Python  19\n",
       "William C++     22"
      ]
     },
     "execution_count": 10,
     "metadata": {},
     "output_type": "execute_result"
    }
   ],
   "source": [
    "#Pivot Tables\n",
    "# create dataframe   \n",
    "info = pd.DataFrame({'P': ['Smith', 'John', 'William', 'Parker'],   \n",
    "      'Q': ['Python', 'C', 'C++', 'Java'],   \n",
    "      'R': [19, 24, 22, 25]})   \n",
    "info   \n",
    "table = pd.pivot_table(info, index =['P', 'Q'])     \n",
    "table"
   ]
  },
  {
   "cell_type": "code",
   "execution_count": null,
   "id": "28ce7222-b2ad-497f-a70d-2b8f1e6a740c",
   "metadata": {},
   "outputs": [],
   "source": []
  }
 ],
 "metadata": {
  "kernelspec": {
   "display_name": "Python 3 (ipykernel)",
   "language": "python",
   "name": "python3"
  },
  "language_info": {
   "codemirror_mode": {
    "name": "ipython",
    "version": 3
   },
   "file_extension": ".py",
   "mimetype": "text/x-python",
   "name": "python",
   "nbconvert_exporter": "python",
   "pygments_lexer": "ipython3",
   "version": "3.10.7"
  }
 },
 "nbformat": 4,
 "nbformat_minor": 5
}
