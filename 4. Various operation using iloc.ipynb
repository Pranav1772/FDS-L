{
 "cells": [
  {
   "cell_type": "code",
   "execution_count": 1,
   "id": "fa0df0a0-a9c3-4349-8846-f2e3ed11155b",
   "metadata": {
    "tags": []
   },
   "outputs": [
    {
     "ename": "ModuleNotFoundError",
     "evalue": "No module named 'google.colab'",
     "output_type": "error",
     "traceback": [
      "\u001b[1;31m---------------------------------------------------------------------------\u001b[0m",
      "\u001b[1;31mModuleNotFoundError\u001b[0m                       Traceback (most recent call last)",
      "Cell \u001b[1;32mIn[1], line 1\u001b[0m\n\u001b[1;32m----> 1\u001b[0m \u001b[38;5;28;01mfrom\u001b[39;00m \u001b[38;5;21;01mgoogle\u001b[39;00m\u001b[38;5;21;01m.\u001b[39;00m\u001b[38;5;21;01mcolab\u001b[39;00m \u001b[38;5;28;01mimport\u001b[39;00m drive \n\u001b[0;32m      2\u001b[0m drive\u001b[38;5;241m.\u001b[39mmount(\u001b[38;5;124m\"\u001b[39m\u001b[38;5;124m/content/gdrive\u001b[39m\u001b[38;5;124m\"\u001b[39m)\n",
      "\u001b[1;31mModuleNotFoundError\u001b[0m: No module named 'google.colab'"
     ]
    }
   ],
   "source": [
    "from google.colab import drive \n",
    "drive.mount(\"/content/gdrive\")"
   ]
  },
  {
   "cell_type": "code",
   "execution_count": 2,
   "id": "63d1c747-1443-4dbe-8cb0-0a7a7e207feb",
   "metadata": {
    "tags": []
   },
   "outputs": [],
   "source": [
    "import pandas as pd \n",
    "# data = pd.read_csv('/content/gdrive/My Drive/Data Science lab/Data analysis.csv')\n",
    "data = pd.read_csv('D:\\Study\\Fundamentals of Data Science\\Practicals\\Practical Exam\\Data analysis.csv')"
   ]
  },
  {
   "cell_type": "code",
   "execution_count": 3,
   "id": "e631ad82-f36c-4bef-9913-e6b357d7b9f1",
   "metadata": {
    "tags": []
   },
   "outputs": [
    {
     "name": "stdout",
     "output_type": "stream",
     "text": [
      "        0\n",
      "0  Python\n",
      "1  Pandas\n"
     ]
    }
   ],
   "source": [
    "#Python Pandas Data Structure\n",
    "#DataFrame\n",
    "import pandas as pd  \n",
    "# a list of strings  \n",
    "x = ['Python', 'Pandas']  \n",
    "# Calling DataFrame constructor on list  \n",
    "df = pd.DataFrame(x)  \n",
    "print(df)"
   ]
  },
  {
   "cell_type": "code",
   "execution_count": 4,
   "id": "b8380034-2763-490d-8953-97b48f2c4d63",
   "metadata": {
    "tags": []
   },
   "outputs": [
    {
     "name": "stdout",
     "output_type": "stream",
     "text": [
      "0    P\n",
      "1    a\n",
      "2    n\n",
      "3    d\n",
      "4    a\n",
      "5    s\n",
      "dtype: object\n"
     ]
    }
   ],
   "source": [
    "#Series\n",
    "import numpy as np  \n",
    "info = np.array(['P','a','n','d','a','s'])  \n",
    "a = pd.Series(info)  \n",
    "print(a)  "
   ]
  },
  {
   "cell_type": "code",
   "execution_count": 5,
   "id": "4670e169-f2ac-4aea-b4ff-f21833feb44b",
   "metadata": {
    "tags": []
   },
   "outputs": [
    {
     "name": "stdout",
     "output_type": "stream",
     "text": [
      "           P1\n",
      "0    4.166667\n",
      "1    4.166667\n",
      "2    4.166667\n",
      "3    4.166667\n",
      "4    4.166667\n",
      "..        ...\n",
      "114  4.500000\n",
      "115  4.500000\n",
      "116  4.500000\n",
      "117  4.750000\n",
      "118  4.500000\n",
      "\n",
      "[119 rows x 1 columns]\n",
      "           P1        P2   P3\n",
      "0    4.166667  5.000000  5.0\n",
      "1    4.166667  5.000000  5.0\n",
      "2    4.166667  5.000000  5.0\n",
      "3    4.166667  5.000000  5.0\n",
      "4    4.166667  5.000000  5.0\n",
      "..        ...       ...  ...\n",
      "114  4.500000  4.500000  3.5\n",
      "115  4.500000  4.500000  3.5\n",
      "116  4.500000  4.666667  5.0\n",
      "117  4.750000  4.666667  4.0\n",
      "118  4.500000  4.833333  4.5\n",
      "\n",
      "[119 rows x 3 columns]\n"
     ]
    }
   ],
   "source": [
    "#Pandas Slicing\n",
    "#Pandas loc vs. iloc \n",
    "#if I wants a perticular row and column from the dataset's\n",
    "from pandas import DataFrame\n",
    "df = DataFrame(data)\n",
    "df1=df[['P1']]\n",
    "print(df1)\n",
    "df2=df[['P1','P2','P3']]\n",
    "print(df2)"
   ]
  },
  {
   "cell_type": "code",
   "execution_count": 6,
   "id": "e0a2213e-935a-4128-87fc-9e7b230a19ec",
   "metadata": {
    "tags": []
   },
   "outputs": [
    {
     "name": "stdout",
     "output_type": "stream",
     "text": [
      "P1    4.166667\n",
      "P2    5.000000\n",
      "P3    5.000000\n",
      "P4    5.000000\n",
      "P5    5.000000\n",
      "P6    5.000000\n",
      "Name: 3, dtype: float64\n"
     ]
    }
   ],
   "source": [
    "## retrieving rows by iloc method \n",
    "row2 = data.iloc[3] \n",
    "print(row2)"
   ]
  },
  {
   "cell_type": "code",
   "execution_count": 7,
   "id": "ecebcba1-2705-4989-92aa-62f42c9c971c",
   "metadata": {
    "tags": []
   },
   "outputs": [
    {
     "name": "stdout",
     "output_type": "stream",
     "text": [
      "           P1        P2   P3\n",
      "0    4.166667  5.000000  5.0\n",
      "1    4.166667  5.000000  5.0\n",
      "2    4.166667  5.000000  5.0\n",
      "3    4.166667  5.000000  5.0\n",
      "4    4.166667  5.000000  5.0\n",
      "..        ...       ...  ...\n",
      "114  4.500000  4.500000  3.5\n",
      "115  4.500000  4.500000  3.5\n",
      "116  4.500000  4.666667  5.0\n",
      "117  4.750000  4.666667  4.0\n",
      "118  4.500000  4.833333  4.5\n",
      "\n",
      "[119 rows x 3 columns]\n"
     ]
    }
   ],
   "source": [
    "#Retrieving all rows and some columns by loc method\n",
    "df3= data.loc[:, [\"P1\",\"P2\",\"P3\"]]\n",
    "print(df3)"
   ]
  },
  {
   "cell_type": "code",
   "execution_count": 8,
   "id": "068bc673-ff3d-42d7-88e2-ac3ab07f3796",
   "metadata": {
    "tags": []
   },
   "outputs": [
    {
     "name": "stdout",
     "output_type": "stream",
     "text": [
      "           P1        P2   P3\n",
      "0    4.166667  5.000000  5.0\n",
      "1    4.166667  5.000000  5.0\n",
      "2    4.166667  5.000000  5.0\n",
      "3    4.166667  5.000000  5.0\n",
      "4    4.166667  5.000000  5.0\n",
      "..        ...       ...  ...\n",
      "114  4.500000  4.500000  3.5\n",
      "115  4.500000  4.500000  3.5\n",
      "116  4.500000  4.666667  5.0\n",
      "117  4.750000  4.666667  4.0\n",
      "118  4.500000  4.833333  4.5\n",
      "\n",
      "[119 rows x 3 columns]\n"
     ]
    }
   ],
   "source": [
    "## retrieving all rows and some columns by iloc method \n",
    "row3 = data.iloc [:, [0, 1, 2]]\n",
    "print(row3)"
   ]
  },
  {
   "cell_type": "code",
   "execution_count": 9,
   "id": "3f31526d-2352-457b-9a2a-42231c15c9b1",
   "metadata": {
    "tags": []
   },
   "outputs": [
    {
     "name": "stdout",
     "output_type": "stream",
     "text": [
      "    P2   P3\n",
      "3  5.0  5.0\n",
      "4  5.0  5.0\n"
     ]
    }
   ],
   "source": [
    "# retrieving two rows and two columns by iloc method \n",
    "row3 = data.iloc [[3, 4], \n",
    "                  [1, 2]]\n",
    "print(row3)"
   ]
  },
  {
   "cell_type": "code",
   "execution_count": 10,
   "id": "54d173c3-28f5-410e-be16-c3196eca737a",
   "metadata": {
    "tags": []
   },
   "outputs": [
    {
     "name": "stdout",
     "output_type": "stream",
     "text": [
      "         P1   P2   P3  P4   P5  P6\n",
      "1  4.166667  5.0  5.0   5  5.0   5\n",
      "2  4.166667  5.0  5.0   5  5.0   5\n",
      "3  4.166667  5.0  5.0   5  5.0   5\n",
      "4  4.166667  5.0  5.0   5  5.0   5\n"
     ]
    }
   ],
   "source": [
    "# retrieving some rows and all the columns\n",
    "row4 = data.iloc [1:5,:]\n",
    "print(row4)"
   ]
  },
  {
   "cell_type": "code",
   "execution_count": 11,
   "id": "6ac1ca05-1fe9-4f8b-9759-e62a292c9f13",
   "metadata": {
    "tags": []
   },
   "outputs": [
    {
     "name": "stdout",
     "output_type": "stream",
     "text": [
      "               0          1          2\n",
      "count   3.000000   3.000000   3.000000\n",
      "mean   10.666667  17.666667   7.333333\n",
      "std     2.081666   2.516611   4.041452\n",
      "min     9.000000  15.000000   3.000000\n",
      "25%     9.500000  16.500000   5.500000\n",
      "50%    10.000000  18.000000   8.000000\n",
      "75%    11.500000  19.000000   9.500000\n",
      "max    13.000000  20.000000  11.000000\n"
     ]
    }
   ],
   "source": [
    "#Describe()\n",
    "data = [[10, 18, 11], [13, 15, 8], [9, 20, 3]]\n",
    "df = pd.DataFrame(data)\n",
    "print(df.describe())"
   ]
  },
  {
   "cell_type": "code",
   "execution_count": 12,
   "id": "3f9df6a3-90a6-45b3-87b3-b76f751c87b9",
   "metadata": {
    "tags": []
   },
   "outputs": [
    {
     "name": "stdout",
     "output_type": "stream",
     "text": [
      "(3, 3)\n"
     ]
    }
   ],
   "source": [
    "#shape()\n",
    "print(df.shape)"
   ]
  }
 ],
 "metadata": {
  "kernelspec": {
   "display_name": "Python 3 (ipykernel)",
   "language": "python",
   "name": "python3"
  },
  "language_info": {
   "codemirror_mode": {
    "name": "ipython",
    "version": 3
   },
   "file_extension": ".py",
   "mimetype": "text/x-python",
   "name": "python",
   "nbconvert_exporter": "python",
   "pygments_lexer": "ipython3",
   "version": "3.10.7"
  }
 },
 "nbformat": 4,
 "nbformat_minor": 5
}
