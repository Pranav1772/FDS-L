{
 "cells": [
  {
   "cell_type": "code",
   "execution_count": 2,
   "id": "5d1d91fe-cc5e-40c7-8bc4-05c3184a117e",
   "metadata": {
    "tags": []
   },
   "outputs": [],
   "source": [
    "import numpy as np\n",
    "weight = np.array([50.7, 52.5, 50, 58, 55.63, 73.25, 49.5, 45])"
   ]
  },
  {
   "cell_type": "code",
   "execution_count": 3,
   "id": "8c82ac55-47e9-4f05-a585-5ee8f4ec7e38",
   "metadata": {},
   "outputs": [
    {
     "name": "stdout",
     "output_type": "stream",
     "text": [
      "Minimum and maximum weight of the students: \n",
      "45.0 73.25\n"
     ]
    }
   ],
   "source": [
    "# minimum and maximum \n",
    "print('Minimum and maximum weight of the students: ')\n",
    "print(np.amin(weight), np.amax(weight))"
   ]
  },
  {
   "cell_type": "code",
   "execution_count": 4,
   "id": "3952b9b0-6a35-4e3b-b8f2-150b179b7655",
   "metadata": {
    "tags": []
   },
   "outputs": [
    {
     "name": "stdout",
     "output_type": "stream",
     "text": [
      "Range of the weight of the students: \n",
      "28.25\n"
     ]
    }
   ],
   "source": [
    "# range of weight i.e. max weight-min weight\n",
    "print('Range of the weight of the students: ')\n",
    "print(np.ptp(weight))"
   ]
  },
  {
   "cell_type": "code",
   "execution_count": 5,
   "id": "38b32452-6d17-44a7-a0fe-7d4c0b0e0471",
   "metadata": {
    "tags": []
   },
   "outputs": [
    {
     "name": "stdout",
     "output_type": "stream",
     "text": [
      "Weight below which 70 % student fall: \n",
      "55.317\n"
     ]
    }
   ],
   "source": [
    "# percentile\n",
    "print('Weight below which 70 % student fall: ')\n",
    "print(np.percentile(weight, 70))"
   ]
  },
  {
   "cell_type": "code",
   "execution_count": 6,
   "id": "5556b0e6-b0c7-4c5a-b92f-6c5266682f57",
   "metadata": {
    "tags": []
   },
   "outputs": [
    {
     "name": "stdout",
     "output_type": "stream",
     "text": [
      "Mean weight of the students: \n",
      "54.3225\n"
     ]
    }
   ],
   "source": [
    "# mean \n",
    "print('Mean weight of the students: ')\n",
    "print(np.mean(weight))"
   ]
  },
  {
   "cell_type": "code",
   "execution_count": 7,
   "id": "4f6ba083-883b-4c41-b615-1c7e744f54eb",
   "metadata": {
    "tags": []
   },
   "outputs": [
    {
     "name": "stdout",
     "output_type": "stream",
     "text": [
      "Median weight of the students: \n",
      "51.6\n"
     ]
    }
   ],
   "source": [
    "# median \n",
    "print('Median weight of the students: ')\n",
    "print(np.median(weight))"
   ]
  },
  {
   "cell_type": "code",
   "execution_count": 8,
   "id": "df94cf90-f0a3-4efa-b682-f3941d75e092",
   "metadata": {
    "tags": []
   },
   "outputs": [
    {
     "name": "stdout",
     "output_type": "stream",
     "text": [
      "Median weight of the students: \n",
      "ModeResult(mode=array([45.]), count=array([1]))\n"
     ]
    },
    {
     "name": "stderr",
     "output_type": "stream",
     "text": [
      "C:\\Users\\prana\\AppData\\Local\\Temp\\ipykernel_17204\\2549076332.py:5: FutureWarning: Unlike other reduction functions (e.g. `skew`, `kurtosis`), the default behavior of `mode` typically preserves the axis it acts along. In SciPy 1.11.0, this behavior will change: the default value of `keepdims` will become False, the `axis` over which the statistic is taken will be eliminated, and the value None will no longer be accepted. Set `keepdims` to True or False to avoid this warning.\n",
      "  print(st.mode(weight))\n"
     ]
    }
   ],
   "source": [
    "# mode\n",
    "from scipy import stats as st\n",
    "import numpy as np\n",
    "print('Median weight of the students: ')\n",
    "print(st.mode(weight))"
   ]
  },
  {
   "cell_type": "code",
   "execution_count": 9,
   "id": "9fce3ba3-af74-4a10-9d83-1199a8f721d8",
   "metadata": {
    "tags": []
   },
   "outputs": [
    {
     "name": "stdout",
     "output_type": "stream",
     "text": [
      "Standard deviation of weight of the students: \n",
      "8.052773978574091\n"
     ]
    }
   ],
   "source": [
    "# standard deviation \n",
    "print('Standard deviation of weight of the students: ')\n",
    "print(np.std(weight))"
   ]
  },
  {
   "cell_type": "code",
   "execution_count": 10,
   "id": "941e8663-4145-4592-829b-8a494323f8cd",
   "metadata": {
    "tags": []
   },
   "outputs": [
    {
     "name": "stdout",
     "output_type": "stream",
     "text": [
      "Variance of weight of the students: \n",
      "64.84716875\n"
     ]
    }
   ],
   "source": [
    "# variance \n",
    "print('Variance of weight of the students: ')\n",
    "print(np.var(weight))"
   ]
  },
  {
   "cell_type": "code",
   "execution_count": null,
   "id": "09e007d9-14ba-4a88-b5a3-2a9aa2e9474f",
   "metadata": {},
   "outputs": [],
   "source": [
    "# average \n",
    "print('Average weight of the students: ')\n",
    "print(np.average(weight))"
   ]
  }
 ],
 "metadata": {
  "kernelspec": {
   "display_name": "Python 3 (ipykernel)",
   "language": "python",
   "name": "python3"
  },
  "language_info": {
   "codemirror_mode": {
    "name": "ipython",
    "version": 3
   },
   "file_extension": ".py",
   "mimetype": "text/x-python",
   "name": "python",
   "nbconvert_exporter": "python",
   "pygments_lexer": "ipython3",
   "version": "3.10.7"
  }
 },
 "nbformat": 4,
 "nbformat_minor": 5
}
