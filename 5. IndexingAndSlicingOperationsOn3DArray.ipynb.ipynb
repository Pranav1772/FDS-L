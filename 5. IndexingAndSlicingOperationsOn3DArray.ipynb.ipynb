{
 "cells": [
  {
   "cell_type": "code",
   "execution_count": 1,
   "id": "5889e480-4481-480a-bcad-9d72ab476033",
   "metadata": {
    "tags": []
   },
   "outputs": [
    {
     "name": "stdout",
     "output_type": "stream",
     "text": [
      "4\n",
      "[[ 7  8  9]\n",
      " [10 11 12]]\n",
      "[4 5 6]\n",
      "6\n",
      "[[[1 2]]\n",
      "\n",
      " [[7 8]]]\n"
     ]
    }
   ],
   "source": [
    "import numpy as np\n",
    "\n",
    "arr = np.array([[[1, 2, 3],\n",
    "                 [4, 5, 6]],\n",
    "\n",
    "                [[7, 8, 9],\n",
    "                 [10, 11, 12]]])\n",
    "\n",
    "# Indexing\n",
    "print(arr[0, 1, 0])  # Output: 4\n",
    "\n",
    "# Slicing\n",
    "print(arr[1])  # Output: [[ 7  8  9]\n",
    "               #         [10 11 12]]\n",
    "print(arr[0, 1])  # Output: [4 5 6]\n",
    "print(arr[0, 1, 2])  # Output: 6\n",
    "print(arr[:, :1, :2])  # Output: [[[ 1  2]]\n",
    "                      #          [[ 7  8]]]\n"
   ]
  },
  {
   "cell_type": "code",
   "execution_count": null,
   "id": "402f03f4-f8b4-48d8-ae0d-c65194042e76",
   "metadata": {},
   "outputs": [],
   "source": []
  }
 ],
 "metadata": {
  "kernelspec": {
   "display_name": "Python 3 (ipykernel)",
   "language": "python",
   "name": "python3"
  },
  "language_info": {
   "codemirror_mode": {
    "name": "ipython",
    "version": 3
   },
   "file_extension": ".py",
   "mimetype": "text/x-python",
   "name": "python",
   "nbconvert_exporter": "python",
   "pygments_lexer": "ipython3",
   "version": "3.10.7"
  }
 },
 "nbformat": 4,
 "nbformat_minor": 5
}
